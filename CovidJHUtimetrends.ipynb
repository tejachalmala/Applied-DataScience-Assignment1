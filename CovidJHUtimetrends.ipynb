{
 "cells": [
  {
   "cell_type": "markdown",
   "id": "22140abc-82e4-40d2-8b44-5107059bc010",
   "metadata": {},
   "source": [
    "## Importing Necessary Libraries"
   ]
  },
  {
   "cell_type": "code",
   "execution_count": 35,
   "id": "163b436c-1dfe-410a-9bda-17816b62e4de",
   "metadata": {},
   "outputs": [],
   "source": [
    "import pandas as pd\n",
    "import re\n",
    "import warnings\n",
    "warnings.filterwarnings('ignore')"
   ]
  },
  {
   "cell_type": "markdown",
   "id": "c02f1113-a924-4ed7-a370-7fed13c25fad",
   "metadata": {},
   "source": [
    "## Static Information"
   ]
  },
  {
   "cell_type": "markdown",
   "id": "1e603f7a-3334-4b49-a39f-ad402058e34a",
   "metadata": {},
   "source": [
    "confirmed_global = 'data/time_series_covid19_confirmed_global.csv'\n",
    "deaths_global = 'data/time_series_covid19_deaths_global.csv'\n",
    "recovered_global = 'data/time_series_covid19_recovered_global.csv'"
   ]
  },
  {
   "cell_type": "markdown",
   "id": "144e69cc-e741-46f2-92a0-224f23575bdd",
   "metadata": {},
   "source": [
    "## Helper functions needed"
   ]
  },
  {
   "cell_type": "code",
   "execution_count": 35,
   "id": "d53dfc68-3cfc-4e19-baca-5bf897a9b890",
   "metadata": {},
   "outputs": [],
   "source": [
    "def import_data(path):\n",
    "    df = pd.read_csv(path)\n",
    "    return df "
   ]
  },
  {
   "cell_type": "code",
   "execution_count": 81,
   "id": "52256b3b-d7e0-423d-8830-1ad121928d72",
   "metadata": {},
   "outputs": [],
   "source": [
    "def create_monthly_analysis(df):\n",
    "    years = ['20','21','22']\n",
    "    months_mapping = {1:'Jan', 2:'Feb', 3:'Mar', 4:'Apr', 5:'May', 6:'Jun', 7:'Jul', 8:'Aug', 9:'Sep', 10:'Oct', 11:'Nov', 12:'Dec'}\n",
    "    century = '20'\n",
    "    months = [i for i in range(1,13)]\n",
    "    static_columns = ['Province/State', 'Country/Region', 'Lat', 'Long']\n",
    "    date_columns = [j for j in df.columns if j not in static_columns]\n",
    "    df_months = df.copy()\n",
    "    # df_months['tilldate'] = 0\n",
    "    for year in years:\n",
    "        for month in months:\n",
    "            date_month = str(month)+'/'+str(year)\n",
    "            str_date_month = months_mapping[month] + ' ' +str(century)+str(year)\n",
    "            df_months[str_date_month] = 0\n",
    "            for i in df_months.columns:\n",
    "                datematch = rf\"{month}/\\d{{1,2}}/{year}\"\n",
    "                date = re.compile(datematch)\n",
    "                matched = date.search(str(i))\n",
    "                if matched != None:\n",
    "                    df_months[str_date_month] = df_months[i].astype(int) + df_months[str_date_month]\n",
    "            # df_months['tilldate'] = df_months[date_month] + df_months['tilldate']\n",
    "    df_months = df_months.drop(columns = date_columns, axis = 1)\n",
    "    df_countries = df_months['Country/Region']\n",
    "    stale_columns = ['Apr 2022','May 2022','Jun 2022','Jul 2022','Aug 2022','Sep 2022','Oct 2022','Nov 2022','Dec 2022', 'Province/State', 'Lat', 'Long']\n",
    "    # stale_columns = ['Apr 2022','May 2022','Jun 2022','Jul 2022','Aug 2022','Sep 2022','Oct 2022','Nov 2022','Dec 2022', 'Lat', 'Long']\n",
    "    # stale_columns =  ['Province/State', 'Lat', 'Long']\n",
    "    df_months = df_months.drop(columns = stale_columns, axis = 1)\n",
    "    df_months = df_months.set_index('Country/Region')\n",
    "    #Total sum per row: \n",
    "    df_months.loc['global',:]= df_months.sum(axis=0)\n",
    "    #Total sum per row: \n",
    "    df_months.loc[:,'tilldate'] = df_months.sum(axis=1)\n",
    "    # df_months['Country/Region'] = df_countries\n",
    "    return df_months"
   ]
  },
  {
   "cell_type": "code",
   "execution_count": 80,
   "id": "d9342ebc-abda-47f8-8f0d-0915bc82675a",
   "metadata": {},
   "outputs": [],
   "source": [
    "def plot_line_graph(x,y,title,xlabel,ylabel, color='blue', rotation=90, subplot_num=None, axis = None, fillcolor='skyblue',figsize=(10,5)):\n",
    "    # importing libraries\n",
    "    import matplotlib.pyplot as plt\n",
    "    import numpy as np\n",
    "    import math\n",
    "    \n",
    "    if axis == None:\n",
    "        figure, axis = plt.subplots(1, 1, figsize=figsize)\n",
    "    if subplot_num != None:\n",
    "        axis = axis[subplot_num]\n",
    "    axis.plot(x, y, color =color)\n",
    "    axis.set_title(title)\n",
    "    plt.setp(axis.get_xticklabels(), rotation=rotation)\n",
    "    plt.fill_between(x, y, alpha=0.4, color=fillcolor)\n",
    "    axis.set_xlabel(xlabel)\n",
    "    axis.set_ylabel(ylabel)\n",
    "    current_values = plt.gca().get_yticks()\n",
    "    axis.set_yticklabels(['{:.0f}'.format(x) + 'M' for x in plt.gca().get_yticks()/1E6])\n",
    "    plt.show()\n",
    " "
   ]
  },
  {
   "cell_type": "markdown",
   "id": "0514fcf8-678f-4306-8f3d-c93d24ffa122",
   "metadata": {},
   "source": [
    "## Loading Input Data"
   ]
  },
  {
   "cell_type": "code",
   "execution_count": 35,
   "id": "784b6b86-dced-4895-a3ff-a4db372cd6be",
   "metadata": {},
   "outputs": [],
   "source": [
    "confirmed_df = import_data(confirmed_global)\n",
    "deaths_df = import_data(deaths_global)\n",
    "recovered_df = import_data(recovered_global)"
   ]
  },
  {
   "cell_type": "markdown",
   "id": "0c63bab1-a003-4f9c-84be-03fbd1fcb717",
   "metadata": {},
   "source": [
    "## Creating monthly analysis for confirmed cases and deaths observed"
   ]
  },
  {
   "cell_type": "code",
   "execution_count": 37,
   "id": "e4e0148a-a073-415e-b248-38571f0df918",
   "metadata": {},
   "outputs": [],
   "source": [
    "confirmed_monthly = create_monthly_analysis(confirmed_df)\n",
    "deaths_monthly = create_monthly_analysis(deaths_df)\n",
    "recovered_monthly = create_monthly_analysis(recovered_df)"
   ]
  },
  {
   "cell_type": "markdown",
   "id": "6080a876-ff62-4cf1-bf53-73bca69c048c",
   "metadata": {},
   "source": [
    "### Creating global time series data "
   ]
  },
  {
   "cell_type": "code",
   "execution_count": 38,
   "id": "c9034faf-7ccf-47ba-acbb-36da71ccb85a",
   "metadata": {},
   "outputs": [
    {
     "data": {
      "text/html": [
       "<div>\n",
       "<style scoped>\n",
       "    .dataframe tbody tr th:only-of-type {\n",
       "        vertical-align: middle;\n",
       "    }\n",
       "\n",
       "    .dataframe tbody tr th {\n",
       "        vertical-align: top;\n",
       "    }\n",
       "\n",
       "    .dataframe thead th {\n",
       "        text-align: right;\n",
       "    }\n",
       "</style>\n",
       "<table border=\"1\" class=\"dataframe\">\n",
       "  <thead>\n",
       "    <tr style=\"text-align: right;\">\n",
       "      <th></th>\n",
       "      <th>Jan 2020</th>\n",
       "      <th>Feb 2020</th>\n",
       "      <th>Mar 2020</th>\n",
       "      <th>Apr 2020</th>\n",
       "      <th>May 2020</th>\n",
       "      <th>Jun 2020</th>\n",
       "      <th>Jul 2020</th>\n",
       "      <th>Aug 2020</th>\n",
       "      <th>Sep 2020</th>\n",
       "      <th>Oct 2020</th>\n",
       "      <th>...</th>\n",
       "      <th>Jun 2021</th>\n",
       "      <th>Jul 2021</th>\n",
       "      <th>Aug 2021</th>\n",
       "      <th>Sep 2021</th>\n",
       "      <th>Oct 2021</th>\n",
       "      <th>Nov 2021</th>\n",
       "      <th>Dec 2021</th>\n",
       "      <th>Jan 2022</th>\n",
       "      <th>Feb 2022</th>\n",
       "      <th>Mar 2022</th>\n",
       "    </tr>\n",
       "  </thead>\n",
       "  <tbody>\n",
       "    <tr>\n",
       "      <th>confirmed</th>\n",
       "      <td>1.648720e+09</td>\n",
       "      <td>2.299324e+09</td>\n",
       "      <td>9095197.0</td>\n",
       "      <td>63566312.0</td>\n",
       "      <td>145038098.0</td>\n",
       "      <td>246692701.0</td>\n",
       "      <td>431675990.0</td>\n",
       "      <td>672051282.0</td>\n",
       "      <td>895460493.0</td>\n",
       "      <td>1.229538e+09</td>\n",
       "      <td>...</td>\n",
       "      <td>5.320074e+09</td>\n",
       "      <td>5.896146e+09</td>\n",
       "      <td>6.466674e+09</td>\n",
       "      <td>6.811819e+09</td>\n",
       "      <td>7.473037e+09</td>\n",
       "      <td>7.656678e+09</td>\n",
       "      <td>8.496019e+09</td>\n",
       "      <td>1.027559e+10</td>\n",
       "      <td>1.157139e+10</td>\n",
       "      <td>5.371252e+09</td>\n",
       "    </tr>\n",
       "    <tr>\n",
       "      <th>deaths</th>\n",
       "      <td>4.155258e+07</td>\n",
       "      <td>5.302418e+07</td>\n",
       "      <td>401575.0</td>\n",
       "      <td>4422694.0</td>\n",
       "      <td>10004663.0</td>\n",
       "      <td>13983464.0</td>\n",
       "      <td>19316987.0</td>\n",
       "      <td>25085170.0</td>\n",
       "      <td>29554145.0</td>\n",
       "      <td>3.587342e+07</td>\n",
       "      <td>...</td>\n",
       "      <td>1.147672e+08</td>\n",
       "      <td>1.266275e+08</td>\n",
       "      <td>1.356262e+08</td>\n",
       "      <td>1.398839e+08</td>\n",
       "      <td>1.518097e+08</td>\n",
       "      <td>1.534248e+08</td>\n",
       "      <td>1.654586e+08</td>\n",
       "      <td>1.721260e+08</td>\n",
       "      <td>1.633355e+08</td>\n",
       "      <td>7.205711e+07</td>\n",
       "    </tr>\n",
       "    <tr>\n",
       "      <th>recoveries</th>\n",
       "      <td>1.065637e+09</td>\n",
       "      <td>1.366132e+09</td>\n",
       "      <td>2705110.0</td>\n",
       "      <td>16314536.0</td>\n",
       "      <td>54100868.0</td>\n",
       "      <td>118880540.0</td>\n",
       "      <td>242238461.0</td>\n",
       "      <td>423525878.0</td>\n",
       "      <td>608664203.0</td>\n",
       "      <td>8.432717e+08</td>\n",
       "      <td>...</td>\n",
       "      <td>3.440040e+09</td>\n",
       "      <td>3.868309e+09</td>\n",
       "      <td>5.217530e+08</td>\n",
       "      <td>0.000000e+00</td>\n",
       "      <td>0.000000e+00</td>\n",
       "      <td>0.000000e+00</td>\n",
       "      <td>0.000000e+00</td>\n",
       "      <td>0.000000e+00</td>\n",
       "      <td>0.000000e+00</td>\n",
       "      <td>0.000000e+00</td>\n",
       "    </tr>\n",
       "  </tbody>\n",
       "</table>\n",
       "<p>3 rows × 27 columns</p>\n",
       "</div>"
      ],
      "text/plain": [
       "                Jan 2020      Feb 2020   Mar 2020    Apr 2020     May 2020  \\\n",
       "confirmed   1.648720e+09  2.299324e+09  9095197.0  63566312.0  145038098.0   \n",
       "deaths      4.155258e+07  5.302418e+07   401575.0   4422694.0   10004663.0   \n",
       "recoveries  1.065637e+09  1.366132e+09  2705110.0  16314536.0   54100868.0   \n",
       "\n",
       "               Jun 2020     Jul 2020     Aug 2020     Sep 2020      Oct 2020  \\\n",
       "confirmed   246692701.0  431675990.0  672051282.0  895460493.0  1.229538e+09   \n",
       "deaths       13983464.0   19316987.0   25085170.0   29554145.0  3.587342e+07   \n",
       "recoveries  118880540.0  242238461.0  423525878.0  608664203.0  8.432717e+08   \n",
       "\n",
       "            ...      Jun 2021      Jul 2021      Aug 2021      Sep 2021  \\\n",
       "confirmed   ...  5.320074e+09  5.896146e+09  6.466674e+09  6.811819e+09   \n",
       "deaths      ...  1.147672e+08  1.266275e+08  1.356262e+08  1.398839e+08   \n",
       "recoveries  ...  3.440040e+09  3.868309e+09  5.217530e+08  0.000000e+00   \n",
       "\n",
       "                Oct 2021      Nov 2021      Dec 2021      Jan 2022  \\\n",
       "confirmed   7.473037e+09  7.656678e+09  8.496019e+09  1.027559e+10   \n",
       "deaths      1.518097e+08  1.534248e+08  1.654586e+08  1.721260e+08   \n",
       "recoveries  0.000000e+00  0.000000e+00  0.000000e+00  0.000000e+00   \n",
       "\n",
       "                Feb 2022      Mar 2022  \n",
       "confirmed   1.157139e+10  5.371252e+09  \n",
       "deaths      1.633355e+08  7.205711e+07  \n",
       "recoveries  0.000000e+00  0.000000e+00  \n",
       "\n",
       "[3 rows x 27 columns]"
      ]
     },
     "execution_count": 38,
     "metadata": {},
     "output_type": "execute_result"
    }
   ],
   "source": [
    "global_table = pd.DataFrame(columns = ['Jan 2020', 'Feb 2020', 'Mar 2020', 'Apr 2020', 'May 2020', 'Jun 2020',\n",
    "       'Jul 2020', 'Aug 2020', 'Sep 2020', 'Oct 2020', 'Nov 2020', 'Dec 2020',\n",
    "       'Jan 2021', 'Feb 2021', 'Mar 2021', 'Apr 2021', 'May 2021', 'Jun 2021',\n",
    "       'Jul 2021', 'Aug 2021', 'Sep 2021', 'Oct 2021', 'Nov 2021', 'Dec 2021',\n",
    "       'Jan 2022', 'Feb 2022', 'Mar 2022'])\n",
    "global_table.loc['confirmed'] = confirmed_monthly.loc['global']\n",
    "global_table.loc['deaths'] = deaths_monthly.loc['global']\n",
    "global_table.loc['recoveries'] = recovered_monthly.loc['global']\n",
    "global_table.head()"
   ]
  },
  {
   "cell_type": "markdown",
   "id": "3748c76e-39b2-4b45-9945-4f5e827bf61d",
   "metadata": {},
   "source": [
    "#### PLotting the global trends "
   ]
  },
  {
   "cell_type": "code",
   "execution_count": 75,
   "id": "778c03b9-df6a-42ec-88f9-ebdc9ffa6a36",
   "metadata": {},
   "outputs": [
    {
     "data": {
      "image/png": "[encoded data removed]",
      "text/plain": [
       "<Figure size 720x360 with 1 Axes>"
      ]
     },
     "metadata": {
      "needs_background": "light"
     },
     "output_type": "display_data"
    }
   ],
   "source": [
    "plot_line_graph(global_table.columns, global_table.loc['confirmed'].values.tolist(),'Confirmed cases trend', 'Month Year', 'Count of cases', color='deepskyblue', fillcolor='skyblue')"
   ]
  },
  {
   "cell_type": "code",
   "execution_count": 77,
   "id": "29a1e845-1d90-4df4-8b55-ddeb73479c53",
   "metadata": {},
   "outputs": [
    {
     "data": {
      "image/png": "[encoded data removed]",
      "text/plain": [
       "<Figure size 720x360 with 1 Axes>"
      ]
     },
     "metadata": {
      "needs_background": "light"
     },
     "output_type": "display_data"
    }
   ],
   "source": [
    "plot_line_graph(global_table.columns, global_table.loc['deaths'].values.tolist(),'Death cases trend', 'Month Year', 'Count of cases', color='deeppink', fillcolor='pink')"
   ]
  },
  {
   "cell_type": "code",
   "execution_count": 78,
   "id": "606704b4-3cf1-4192-99dd-480fc610f4ad",
   "metadata": {},
   "outputs": [
    {
     "data": {
      "image/png": "[encoded data removed]",
      "text/plain": [
       "<Figure size 720x360 with 1 Axes>"
      ]
     },
     "metadata": {
      "needs_background": "light"
     },
     "output_type": "display_data"
    }
   ],
   "source": [
    "plot_line_graph(global_table.columns, global_table.loc['recoveries'].values.tolist(),'Recovered cases trend', 'Month Year', 'Count of cases', color='springgreen', fillcolor='aquamarine')"
   ]
  },
  {
   "cell_type": "markdown",
   "id": "17b3abab-b607-4d2b-a6b0-6626b3a0e0de",
   "metadata": {},
   "source": [
    "### Obtaining country wise summary figures"
   ]
  },
  {
   "cell_type": "code",
   "execution_count": 134,
   "id": "43419cac-4c78-4cd8-a263-22bad73c9e37",
   "metadata": {},
   "outputs": [
    {
     "data": {
      "text/html": [
       "<div>\n",
       "<style scoped>\n",
       "    .dataframe tbody tr th:only-of-type {\n",
       "        vertical-align: middle;\n",
       "    }\n",
       "\n",
       "    .dataframe tbody tr th {\n",
       "        vertical-align: top;\n",
       "    }\n",
       "\n",
       "    .dataframe thead th {\n",
       "        text-align: right;\n",
       "    }\n",
       "</style>\n",
       "<table border=\"1\" class=\"dataframe\">\n",
       "  <thead>\n",
       "    <tr style=\"text-align: right;\">\n",
       "      <th></th>\n",
       "      <th>confirmed</th>\n",
       "      <th>deaths</th>\n",
       "      <th>recoveries</th>\n",
       "    </tr>\n",
       "    <tr>\n",
       "      <th>Country/Region</th>\n",
       "      <th></th>\n",
       "      <th></th>\n",
       "      <th></th>\n",
       "    </tr>\n",
       "  </thead>\n",
       "  <tbody>\n",
       "    <tr>\n",
       "      <th>Afghanistan</th>\n",
       "      <td>72250685.0</td>\n",
       "      <td>3162879.0</td>\n",
       "      <td>20556405.0</td>\n",
       "    </tr>\n",
       "    <tr>\n",
       "      <th>Albania</th>\n",
       "      <td>87369182.0</td>\n",
       "      <td>1437660.0</td>\n",
       "      <td>23895960.0</td>\n",
       "    </tr>\n",
       "    <tr>\n",
       "      <th>Algeria</th>\n",
       "      <td>103242319.0</td>\n",
       "      <td>2929040.0</td>\n",
       "      <td>28946709.0</td>\n",
       "    </tr>\n",
       "    <tr>\n",
       "      <th>Andorra</th>\n",
       "      <td>9720770.0</td>\n",
       "      <td>83381.0</td>\n",
       "      <td>3438603.0</td>\n",
       "    </tr>\n",
       "    <tr>\n",
       "      <th>Angola</th>\n",
       "      <td>27928672.0</td>\n",
       "      <td>665886.0</td>\n",
       "      <td>6378643.0</td>\n",
       "    </tr>\n",
       "  </tbody>\n",
       "</table>\n",
       "</div>"
      ],
      "text/plain": [
       "                  confirmed     deaths  recoveries\n",
       "Country/Region                                    \n",
       "Afghanistan      72250685.0  3162879.0  20556405.0\n",
       "Albania          87369182.0  1437660.0  23895960.0\n",
       "Algeria         103242319.0  2929040.0  28946709.0\n",
       "Andorra           9720770.0    83381.0   3438603.0\n",
       "Angola           27928672.0   665886.0   6378643.0"
      ]
     },
     "execution_count": 134,
     "metadata": {},
     "output_type": "execute_result"
    }
   ],
   "source": [
    "country_wise_total_df = pd.DataFrame(columns=['confirmed','deaths'])\n",
    "# country_wise_total_df['rec'] = recovered_monthly['tilldate']\n",
    "country_wise_total_df['confirmed'] = confirmed_monthly['tilldate']\n",
    "country_wise_total_df['deaths'] = deaths_monthly['tilldate']\n",
    "country_wise_total_df = country_wise_total_df.join(pd.DataFrame(recovered_monthly['tilldate']))\n",
    "country_wise_total_df = country_wise_total_df.rename(columns={\"tilldate\":\"recoveries\"})\n",
    "country_wise_total_df.head()"
   ]
  },
  {
   "cell_type": "markdown",
   "id": "111fceaf-1fa3-4e65-bd00-2460f762a4db",
   "metadata": {},
   "source": [
    "#### Plotting significant Information about countries data obtained"
   ]
  },
  {
   "cell_type": "code",
   "execution_count": null,
   "id": "f55a159e-aa3a-4926-93e1-33ae2390fa24",
   "metadata": {},
   "outputs": [],
   "source": []
  }
 ],
 "metadata": {
  "kernelspec": {
   "display_name": "Python 3 (ipykernel)",
   "language": "python",
   "name": "python3"
  },
  "language_info": {
   "codemirror_mode": {
    "name": "ipython",
    "version": 3
   },
   "file_extension": ".py",
   "mimetype": "text/x-python",
   "name": "python",
   "nbconvert_exporter": "python",
   "pygments_lexer": "ipython3",
   "version": "3.9.7"
  }
 },
 "nbformat": 4,
 "nbformat_minor": 5
}
